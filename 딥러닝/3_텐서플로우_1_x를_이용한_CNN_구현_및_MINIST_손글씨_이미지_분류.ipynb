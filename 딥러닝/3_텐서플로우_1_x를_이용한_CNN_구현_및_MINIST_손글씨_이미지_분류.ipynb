{
  "nbformat": 4,
  "nbformat_minor": 0,
  "metadata": {
    "colab": {
      "name": "3.텐서플로우 1.x를 이용한 CNN 구현 및 MINIST 손글씨 이미지 분류.ipynb",
      "provenance": [],
      "toc_visible": true
    },
    "kernelspec": {
      "name": "python3",
      "display_name": "Python 3"
    },
    "language_info": {
      "name": "python"
    }
  },
  "cells": [
    {
      "cell_type": "markdown",
      "source": [
        "# 연구목표 수립"
      ],
      "metadata": {
        "id": "tO4825mts7du"
      }
    },
    {
      "cell_type": "markdown",
      "source": [
        "- 최종 산출물 고려해서 설계\n",
        "- 데이터 MINIST(손글씨)를 이용해서 0~9까지 손글씨 이미지를 인식하는 딥러닝 모델 구축\n",
        "- 손글씨를 웹에서 canvas에 그리고 이를 판독해서 숫자로 데이터로 추출(생략)\n",
        "- 딥러닝에 사용할 인공신경망은 cnn 활용\n",
        "- 엔진은 Tensorflow 1.x 사용\n",
        "- 데이터 훈련용\n",
        "  - shape => (60000, 28*28)\n",
        "- 테스트용 훈련용\n",
        "  - shape => (10000, 28*28)\n",
        "- **텐서플로우 활용, cnn이해 / 구현, 전체 플로우 이해**"
      ],
      "metadata": {
        "id": "RV66f9iWtUeO"
      }
    },
    {
      "cell_type": "code",
      "source": [
        "!pip install tensorflow==1.15\n",
        "\n",
        "%tensorflow_version 1.x\n",
        "\n",
        "import tensorflow as tf\n",
        "tf.__version__"
      ],
      "metadata": {
        "colab": {
          "base_uri": "https://localhost:8080/",
          "height": 1000
        },
        "id": "Xizgcvmnv2XP",
        "outputId": "56d81da6-8d4b-4930-8230-7520bac67075"
      },
      "execution_count": null,
      "outputs": [
        {
          "output_type": "stream",
          "name": "stdout",
          "text": [
            "Collecting tensorflow==1.15\n",
            "  Downloading tensorflow-1.15.0-cp37-cp37m-manylinux2010_x86_64.whl (412.3 MB)\n",
            "\u001b[K     |████████████████████████████████| 412.3 MB 22 kB/s \n",
            "\u001b[?25hRequirement already satisfied: termcolor>=1.1.0 in /usr/local/lib/python3.7/dist-packages (from tensorflow==1.15) (1.1.0)\n",
            "Requirement already satisfied: wheel>=0.26 in /usr/local/lib/python3.7/dist-packages (from tensorflow==1.15) (0.37.1)\n",
            "Collecting keras-applications>=1.0.8\n",
            "  Downloading Keras_Applications-1.0.8-py3-none-any.whl (50 kB)\n",
            "\u001b[K     |████████████████████████████████| 50 kB 6.2 MB/s \n",
            "\u001b[?25hRequirement already satisfied: numpy<2.0,>=1.16.0 in /usr/local/lib/python3.7/dist-packages (from tensorflow==1.15) (1.21.6)\n",
            "Requirement already satisfied: grpcio>=1.8.6 in /usr/local/lib/python3.7/dist-packages (from tensorflow==1.15) (1.44.0)\n",
            "Requirement already satisfied: google-pasta>=0.1.6 in /usr/local/lib/python3.7/dist-packages (from tensorflow==1.15) (0.2.0)\n",
            "Requirement already satisfied: six>=1.10.0 in /usr/local/lib/python3.7/dist-packages (from tensorflow==1.15) (1.15.0)\n",
            "Collecting tensorflow-estimator==1.15.1\n",
            "  Downloading tensorflow_estimator-1.15.1-py2.py3-none-any.whl (503 kB)\n",
            "\u001b[K     |████████████████████████████████| 503 kB 50.2 MB/s \n",
            "\u001b[?25hRequirement already satisfied: protobuf>=3.6.1 in /usr/local/lib/python3.7/dist-packages (from tensorflow==1.15) (3.17.3)\n",
            "Requirement already satisfied: keras-preprocessing>=1.0.5 in /usr/local/lib/python3.7/dist-packages (from tensorflow==1.15) (1.1.2)\n",
            "Collecting gast==0.2.2\n",
            "  Downloading gast-0.2.2.tar.gz (10 kB)\n",
            "Requirement already satisfied: absl-py>=0.7.0 in /usr/local/lib/python3.7/dist-packages (from tensorflow==1.15) (1.0.0)\n",
            "Requirement already satisfied: opt-einsum>=2.3.2 in /usr/local/lib/python3.7/dist-packages (from tensorflow==1.15) (3.3.0)\n",
            "Collecting tensorboard<1.16.0,>=1.15.0\n",
            "  Downloading tensorboard-1.15.0-py3-none-any.whl (3.8 MB)\n",
            "\u001b[K     |████████████████████████████████| 3.8 MB 28.0 MB/s \n",
            "\u001b[?25hRequirement already satisfied: wrapt>=1.11.1 in /usr/local/lib/python3.7/dist-packages (from tensorflow==1.15) (1.14.0)\n",
            "Requirement already satisfied: astor>=0.6.0 in /usr/local/lib/python3.7/dist-packages (from tensorflow==1.15) (0.8.1)\n",
            "Requirement already satisfied: h5py in /usr/local/lib/python3.7/dist-packages (from keras-applications>=1.0.8->tensorflow==1.15) (3.1.0)\n",
            "Requirement already satisfied: markdown>=2.6.8 in /usr/local/lib/python3.7/dist-packages (from tensorboard<1.16.0,>=1.15.0->tensorflow==1.15) (3.3.6)\n",
            "Requirement already satisfied: werkzeug>=0.11.15 in /usr/local/lib/python3.7/dist-packages (from tensorboard<1.16.0,>=1.15.0->tensorflow==1.15) (1.0.1)\n",
            "Requirement already satisfied: setuptools>=41.0.0 in /usr/local/lib/python3.7/dist-packages (from tensorboard<1.16.0,>=1.15.0->tensorflow==1.15) (57.4.0)\n",
            "Requirement already satisfied: importlib-metadata>=4.4 in /usr/local/lib/python3.7/dist-packages (from markdown>=2.6.8->tensorboard<1.16.0,>=1.15.0->tensorflow==1.15) (4.11.3)\n",
            "Requirement already satisfied: typing-extensions>=3.6.4 in /usr/local/lib/python3.7/dist-packages (from importlib-metadata>=4.4->markdown>=2.6.8->tensorboard<1.16.0,>=1.15.0->tensorflow==1.15) (4.2.0)\n",
            "Requirement already satisfied: zipp>=0.5 in /usr/local/lib/python3.7/dist-packages (from importlib-metadata>=4.4->markdown>=2.6.8->tensorboard<1.16.0,>=1.15.0->tensorflow==1.15) (3.8.0)\n",
            "Requirement already satisfied: cached-property in /usr/local/lib/python3.7/dist-packages (from h5py->keras-applications>=1.0.8->tensorflow==1.15) (1.5.2)\n",
            "Building wheels for collected packages: gast\n",
            "  Building wheel for gast (setup.py) ... \u001b[?25l\u001b[?25hdone\n",
            "  Created wheel for gast: filename=gast-0.2.2-py3-none-any.whl size=7554 sha256=aedb98aa423ec2e9b62bff1c0c3c6308295806d0b0d04fa506078536a689f9f7\n",
            "  Stored in directory: /root/.cache/pip/wheels/21/7f/02/420f32a803f7d0967b48dd823da3f558c5166991bfd204eef3\n",
            "Successfully built gast\n",
            "Installing collected packages: tensorflow-estimator, tensorboard, keras-applications, gast, tensorflow\n",
            "  Attempting uninstall: tensorflow-estimator\n",
            "    Found existing installation: tensorflow-estimator 2.8.0\n",
            "    Uninstalling tensorflow-estimator-2.8.0:\n",
            "      Successfully uninstalled tensorflow-estimator-2.8.0\n",
            "  Attempting uninstall: tensorboard\n",
            "    Found existing installation: tensorboard 2.8.0\n",
            "    Uninstalling tensorboard-2.8.0:\n",
            "      Successfully uninstalled tensorboard-2.8.0\n",
            "  Attempting uninstall: gast\n",
            "    Found existing installation: gast 0.5.3\n",
            "    Uninstalling gast-0.5.3:\n",
            "      Successfully uninstalled gast-0.5.3\n",
            "  Attempting uninstall: tensorflow\n",
            "    Found existing installation: tensorflow 2.8.0\n",
            "    Uninstalling tensorflow-2.8.0:\n",
            "      Successfully uninstalled tensorflow-2.8.0\n",
            "\u001b[31mERROR: pip's dependency resolver does not currently take into account all the packages that are installed. This behaviour is the source of the following dependency conflicts.\n",
            "tensorflow-probability 0.16.0 requires gast>=0.3.2, but you have gast 0.2.2 which is incompatible.\n",
            "kapre 0.3.7 requires tensorflow>=2.0.0, but you have tensorflow 1.15.0 which is incompatible.\u001b[0m\n",
            "Successfully installed gast-0.2.2 keras-applications-1.0.8 tensorboard-1.15.0 tensorflow-1.15.0 tensorflow-estimator-1.15.1\n",
            "TensorFlow 1.x selected.\n"
          ]
        },
        {
          "output_type": "execute_result",
          "data": {
            "text/plain": [
              "'1.15.2'"
            ],
            "application/vnd.google.colaboratory.intrinsic+json": {
              "type": "string"
            }
          },
          "metadata": {},
          "execution_count": 1
        }
      ]
    },
    {
      "cell_type": "markdown",
      "source": [
        "# 데이터 수집"
      ],
      "metadata": {
        "id": "nbUpM9N3s7ge"
      }
    },
    {
      "cell_type": "code",
      "source": [
        "mnist = tf.keras.datasets.mnist.load_data()"
      ],
      "metadata": {
        "colab": {
          "base_uri": "https://localhost:8080/"
        },
        "id": "VrqyAp9WwJlW",
        "outputId": "3de34940-5111-45d8-b408-5d61049cc494"
      },
      "execution_count": null,
      "outputs": [
        {
          "output_type": "stream",
          "name": "stdout",
          "text": [
            "Downloading data from https://storage.googleapis.com/tensorflow/tf-keras-datasets/mnist.npz\n",
            "11493376/11490434 [==============================] - 0s 0us/step\n"
          ]
        }
      ]
    },
    {
      "cell_type": "code",
      "source": [
        "type(mnist), len(mnist)"
      ],
      "metadata": {
        "colab": {
          "base_uri": "https://localhost:8080/"
        },
        "id": "uV77eQBxwjFt",
        "outputId": "a6d0b2f3-1725-4663-f073-f671a82eac44"
      },
      "execution_count": null,
      "outputs": [
        {
          "output_type": "execute_result",
          "data": {
            "text/plain": [
              "(tuple, 2)"
            ]
          },
          "metadata": {},
          "execution_count": 3
        }
      ]
    },
    {
      "cell_type": "code",
      "source": [
        "# 용도별로 분해\n",
        "mnist_train, mnist_test = mnist"
      ],
      "metadata": {
        "id": "MGX_q0xDwpx_"
      },
      "execution_count": null,
      "outputs": []
    },
    {
      "cell_type": "code",
      "source": [
        "type(mnist_train), len(mnist_train)"
      ],
      "metadata": {
        "colab": {
          "base_uri": "https://localhost:8080/"
        },
        "id": "eQpjla-ww42E",
        "outputId": "73ce6807-a7aa-485a-92f2-6a0dad7b2d09"
      },
      "execution_count": null,
      "outputs": [
        {
          "output_type": "execute_result",
          "data": {
            "text/plain": [
              "(tuple, 2)"
            ]
          },
          "metadata": {},
          "execution_count": 5
        }
      ]
    },
    {
      "cell_type": "code",
      "source": [
        "mnist_train[0].shape, mnist_test[1].shape\n",
        "# 이미지 원본데이터는 3차원 \n",
        "# 이미지 분류 정답 1차원"
      ],
      "metadata": {
        "colab": {
          "base_uri": "https://localhost:8080/"
        },
        "id": "nGiulTOBw45O",
        "outputId": "223a15c8-9824-4c20-8bca-7969f81ac068"
      },
      "execution_count": null,
      "outputs": [
        {
          "output_type": "execute_result",
          "data": {
            "text/plain": [
              "((60000, 28, 28), (10000,))"
            ]
          },
          "metadata": {},
          "execution_count": 7
        }
      ]
    },
    {
      "cell_type": "code",
      "source": [
        "# 이미지 원본 데이터\n",
        "mnist_train[0][0].shape, mnist_test[0][0]\n",
        "# 1 픽셀을 표현하는 값은 0(0x00) ~ 255(0xFF) => 255개의 수치로 표현"
      ],
      "metadata": {
        "id": "1UXsA9M7xVT-"
      },
      "execution_count": null,
      "outputs": []
    },
    {
      "cell_type": "code",
      "source": [
        "# 값이 0 ~ 255까지면 값의 편차가 비교적 크다 => 정규화 처리(0~1 사이로)\n",
        "# 최대값 255로 나누면 0~1 사이로 모든 값이 정규화된다\n",
        "X_train = mnist_train[0] / 255\n",
        "X_train[0][0]"
      ],
      "metadata": {
        "colab": {
          "base_uri": "https://localhost:8080/"
        },
        "id": "zUUjjyM3yGXW",
        "outputId": "d6b515bc-d8e5-4fcf-8867-1ba2b39ec1be"
      },
      "execution_count": null,
      "outputs": [
        {
          "output_type": "execute_result",
          "data": {
            "text/plain": [
              "array([0., 0., 0., 0., 0., 0., 0., 0., 0., 0., 0., 0., 0., 0., 0., 0., 0.,\n",
              "       0., 0., 0., 0., 0., 0., 0., 0., 0., 0., 0.])"
            ]
          },
          "metadata": {},
          "execution_count": 10
        }
      ]
    },
    {
      "cell_type": "code",
      "source": [
        "# 이미 처리된 데이터 활용\n",
        "from tensorflow.examples.tutorials.mnist import input_data"
      ],
      "metadata": {
        "id": "17PuwzxgytgF"
      },
      "execution_count": null,
      "outputs": []
    },
    {
      "cell_type": "code",
      "source": [
        "from numpy.core.numeric import ones\n",
        "# 정답이 0과 1로 표현된다 : one_hot=True\n",
        "mnist = input_data.read_data_sets('./data/mnist', one_hot = True)"
      ],
      "metadata": {
        "colab": {
          "base_uri": "https://localhost:8080/"
        },
        "id": "iu9WLpbv4S2a",
        "outputId": "df8b9e1b-ae85-4dd8-c42b-0e17e7f9d188"
      },
      "execution_count": null,
      "outputs": [
        {
          "output_type": "stream",
          "name": "stdout",
          "text": [
            "Extracting ./data/mnist/train-images-idx3-ubyte.gz\n",
            "Extracting ./data/mnist/train-labels-idx1-ubyte.gz\n",
            "WARNING:tensorflow:From /tensorflow-1.15.2/python3.7/tensorflow_core/contrib/learn/python/learn/datasets/mnist.py:110: dense_to_one_hot (from tensorflow.contrib.learn.python.learn.datasets.mnist) is deprecated and will be removed in a future version.\n",
            "Instructions for updating:\n",
            "Please use tf.one_hot on tensors.\n",
            "Extracting ./data/mnist/t10k-images-idx3-ubyte.gz\n",
            "Extracting ./data/mnist/t10k-labels-idx1-ubyte.gz\n"
          ]
        }
      ]
    },
    {
      "cell_type": "code",
      "source": [
        "mnist.train.images.shape, mnist.validation.images.shape, mnist.test.images.shape"
      ],
      "metadata": {
        "colab": {
          "base_uri": "https://localhost:8080/"
        },
        "id": "QS0GNBQozc5U",
        "outputId": "b78a320e-7378-4d1d-a4c0-291b4824f34e"
      },
      "execution_count": null,
      "outputs": [
        {
          "output_type": "execute_result",
          "data": {
            "text/plain": [
              "((55000, 784), (5000, 784), (10000, 784))"
            ]
          },
          "metadata": {},
          "execution_count": 27
        }
      ]
    },
    {
      "cell_type": "code",
      "source": [
        "mnist.train.images[0]"
      ],
      "metadata": {
        "colab": {
          "base_uri": "https://localhost:8080/"
        },
        "id": "FhTh700iz48A",
        "outputId": "c772b0cd-4f70-4381-d9d1-7537b6221f61"
      },
      "execution_count": null,
      "outputs": [
        {
          "output_type": "execute_result",
          "data": {
            "text/plain": [
              "array([0.        , 0.        , 0.        , 0.        , 0.        ,\n",
              "       0.        , 0.        , 0.        , 0.        , 0.        ,\n",
              "       0.        , 0.        , 0.        , 0.        , 0.        ,\n",
              "       0.        , 0.        , 0.        , 0.        , 0.        ,\n",
              "       0.        , 0.        , 0.        , 0.        , 0.        ,\n",
              "       0.        , 0.        , 0.        , 0.        , 0.        ,\n",
              "       0.        , 0.        , 0.        , 0.        , 0.        ,\n",
              "       0.        , 0.        , 0.        , 0.        , 0.        ,\n",
              "       0.        , 0.        , 0.        , 0.        , 0.        ,\n",
              "       0.        , 0.        , 0.        , 0.        , 0.        ,\n",
              "       0.        , 0.        , 0.        , 0.        , 0.        ,\n",
              "       0.        , 0.        , 0.        , 0.        , 0.        ,\n",
              "       0.        , 0.        , 0.        , 0.        , 0.        ,\n",
              "       0.        , 0.        , 0.        , 0.        , 0.        ,\n",
              "       0.        , 0.        , 0.        , 0.        , 0.        ,\n",
              "       0.        , 0.        , 0.        , 0.        , 0.        ,\n",
              "       0.        , 0.        , 0.        , 0.        , 0.        ,\n",
              "       0.        , 0.        , 0.        , 0.        , 0.        ,\n",
              "       0.        , 0.        , 0.        , 0.        , 0.        ,\n",
              "       0.        , 0.        , 0.        , 0.        , 0.        ,\n",
              "       0.        , 0.        , 0.        , 0.        , 0.        ,\n",
              "       0.        , 0.        , 0.        , 0.        , 0.        ,\n",
              "       0.        , 0.        , 0.        , 0.        , 0.        ,\n",
              "       0.        , 0.        , 0.        , 0.        , 0.        ,\n",
              "       0.        , 0.        , 0.        , 0.        , 0.        ,\n",
              "       0.        , 0.        , 0.        , 0.        , 0.        ,\n",
              "       0.        , 0.        , 0.        , 0.        , 0.        ,\n",
              "       0.        , 0.        , 0.        , 0.        , 0.        ,\n",
              "       0.        , 0.        , 0.        , 0.        , 0.        ,\n",
              "       0.        , 0.        , 0.        , 0.        , 0.        ,\n",
              "       0.        , 0.        , 0.        , 0.        , 0.        ,\n",
              "       0.        , 0.        , 0.        , 0.        , 0.        ,\n",
              "       0.        , 0.        , 0.        , 0.        , 0.        ,\n",
              "       0.        , 0.        , 0.        , 0.        , 0.        ,\n",
              "       0.        , 0.        , 0.        , 0.        , 0.        ,\n",
              "       0.        , 0.        , 0.        , 0.        , 0.        ,\n",
              "       0.        , 0.        , 0.        , 0.        , 0.        ,\n",
              "       0.        , 0.        , 0.        , 0.        , 0.        ,\n",
              "       0.        , 0.        , 0.        , 0.        , 0.        ,\n",
              "       0.        , 0.        , 0.        , 0.        , 0.        ,\n",
              "       0.        , 0.        , 0.        , 0.        , 0.        ,\n",
              "       0.        , 0.        , 0.3803922 , 0.37647063, 0.3019608 ,\n",
              "       0.46274513, 0.2392157 , 0.        , 0.        , 0.        ,\n",
              "       0.        , 0.        , 0.        , 0.        , 0.        ,\n",
              "       0.        , 0.        , 0.        , 0.        , 0.        ,\n",
              "       0.        , 0.        , 0.3529412 , 0.5411765 , 0.9215687 ,\n",
              "       0.9215687 , 0.9215687 , 0.9215687 , 0.9215687 , 0.9215687 ,\n",
              "       0.9843138 , 0.9843138 , 0.9725491 , 0.9960785 , 0.9607844 ,\n",
              "       0.9215687 , 0.74509805, 0.08235294, 0.        , 0.        ,\n",
              "       0.        , 0.        , 0.        , 0.        , 0.        ,\n",
              "       0.        , 0.        , 0.        , 0.        , 0.54901963,\n",
              "       0.9843138 , 0.9960785 , 0.9960785 , 0.9960785 , 0.9960785 ,\n",
              "       0.9960785 , 0.9960785 , 0.9960785 , 0.9960785 , 0.9960785 ,\n",
              "       0.9960785 , 0.9960785 , 0.9960785 , 0.9960785 , 0.9960785 ,\n",
              "       0.7411765 , 0.09019608, 0.        , 0.        , 0.        ,\n",
              "       0.        , 0.        , 0.        , 0.        , 0.        ,\n",
              "       0.        , 0.        , 0.8862746 , 0.9960785 , 0.81568635,\n",
              "       0.7803922 , 0.7803922 , 0.7803922 , 0.7803922 , 0.54509807,\n",
              "       0.2392157 , 0.2392157 , 0.2392157 , 0.2392157 , 0.2392157 ,\n",
              "       0.5019608 , 0.8705883 , 0.9960785 , 0.9960785 , 0.7411765 ,\n",
              "       0.08235294, 0.        , 0.        , 0.        , 0.        ,\n",
              "       0.        , 0.        , 0.        , 0.        , 0.        ,\n",
              "       0.14901961, 0.32156864, 0.0509804 , 0.        , 0.        ,\n",
              "       0.        , 0.        , 0.        , 0.        , 0.        ,\n",
              "       0.        , 0.        , 0.        , 0.        , 0.13333334,\n",
              "       0.8352942 , 0.9960785 , 0.9960785 , 0.45098042, 0.        ,\n",
              "       0.        , 0.        , 0.        , 0.        , 0.        ,\n",
              "       0.        , 0.        , 0.        , 0.        , 0.        ,\n",
              "       0.        , 0.        , 0.        , 0.        , 0.        ,\n",
              "       0.        , 0.        , 0.        , 0.        , 0.        ,\n",
              "       0.        , 0.        , 0.        , 0.32941177, 0.9960785 ,\n",
              "       0.9960785 , 0.9176471 , 0.        , 0.        , 0.        ,\n",
              "       0.        , 0.        , 0.        , 0.        , 0.        ,\n",
              "       0.        , 0.        , 0.        , 0.        , 0.        ,\n",
              "       0.        , 0.        , 0.        , 0.        , 0.        ,\n",
              "       0.        , 0.        , 0.        , 0.        , 0.        ,\n",
              "       0.        , 0.32941177, 0.9960785 , 0.9960785 , 0.9176471 ,\n",
              "       0.        , 0.        , 0.        , 0.        , 0.        ,\n",
              "       0.        , 0.        , 0.        , 0.        , 0.        ,\n",
              "       0.        , 0.        , 0.        , 0.        , 0.        ,\n",
              "       0.        , 0.        , 0.        , 0.        , 0.        ,\n",
              "       0.        , 0.        , 0.        , 0.4156863 , 0.6156863 ,\n",
              "       0.9960785 , 0.9960785 , 0.95294124, 0.20000002, 0.        ,\n",
              "       0.        , 0.        , 0.        , 0.        , 0.        ,\n",
              "       0.        , 0.        , 0.        , 0.        , 0.        ,\n",
              "       0.        , 0.        , 0.        , 0.        , 0.        ,\n",
              "       0.        , 0.09803922, 0.45882356, 0.8941177 , 0.8941177 ,\n",
              "       0.8941177 , 0.9921569 , 0.9960785 , 0.9960785 , 0.9960785 ,\n",
              "       0.9960785 , 0.94117653, 0.        , 0.        , 0.        ,\n",
              "       0.        , 0.        , 0.        , 0.        , 0.        ,\n",
              "       0.        , 0.        , 0.        , 0.        , 0.        ,\n",
              "       0.        , 0.        , 0.26666668, 0.4666667 , 0.86274517,\n",
              "       0.9960785 , 0.9960785 , 0.9960785 , 0.9960785 , 0.9960785 ,\n",
              "       0.9960785 , 0.9960785 , 0.9960785 , 0.9960785 , 0.5568628 ,\n",
              "       0.        , 0.        , 0.        , 0.        , 0.        ,\n",
              "       0.        , 0.        , 0.        , 0.        , 0.        ,\n",
              "       0.        , 0.        , 0.        , 0.14509805, 0.73333335,\n",
              "       0.9921569 , 0.9960785 , 0.9960785 , 0.9960785 , 0.8745099 ,\n",
              "       0.8078432 , 0.8078432 , 0.29411766, 0.26666668, 0.8431373 ,\n",
              "       0.9960785 , 0.9960785 , 0.45882356, 0.        , 0.        ,\n",
              "       0.        , 0.        , 0.        , 0.        , 0.        ,\n",
              "       0.        , 0.        , 0.        , 0.        , 0.        ,\n",
              "       0.4431373 , 0.8588236 , 0.9960785 , 0.9490197 , 0.89019614,\n",
              "       0.45098042, 0.34901962, 0.12156864, 0.        , 0.        ,\n",
              "       0.        , 0.        , 0.7843138 , 0.9960785 , 0.9450981 ,\n",
              "       0.16078432, 0.        , 0.        , 0.        , 0.        ,\n",
              "       0.        , 0.        , 0.        , 0.        , 0.        ,\n",
              "       0.        , 0.        , 0.        , 0.6627451 , 0.9960785 ,\n",
              "       0.6901961 , 0.24313727, 0.        , 0.        , 0.        ,\n",
              "       0.        , 0.        , 0.        , 0.        , 0.18823531,\n",
              "       0.9058824 , 0.9960785 , 0.9176471 , 0.        , 0.        ,\n",
              "       0.        , 0.        , 0.        , 0.        , 0.        ,\n",
              "       0.        , 0.        , 0.        , 0.        , 0.        ,\n",
              "       0.        , 0.07058824, 0.48627454, 0.        , 0.        ,\n",
              "       0.        , 0.        , 0.        , 0.        , 0.        ,\n",
              "       0.        , 0.        , 0.32941177, 0.9960785 , 0.9960785 ,\n",
              "       0.6509804 , 0.        , 0.        , 0.        , 0.        ,\n",
              "       0.        , 0.        , 0.        , 0.        , 0.        ,\n",
              "       0.        , 0.        , 0.        , 0.        , 0.        ,\n",
              "       0.        , 0.        , 0.        , 0.        , 0.        ,\n",
              "       0.        , 0.        , 0.        , 0.        , 0.        ,\n",
              "       0.54509807, 0.9960785 , 0.9333334 , 0.22352943, 0.        ,\n",
              "       0.        , 0.        , 0.        , 0.        , 0.        ,\n",
              "       0.        , 0.        , 0.        , 0.        , 0.        ,\n",
              "       0.        , 0.        , 0.        , 0.        , 0.        ,\n",
              "       0.        , 0.        , 0.        , 0.        , 0.        ,\n",
              "       0.        , 0.        , 0.8235295 , 0.9803922 , 0.9960785 ,\n",
              "       0.65882355, 0.        , 0.        , 0.        , 0.        ,\n",
              "       0.        , 0.        , 0.        , 0.        , 0.        ,\n",
              "       0.        , 0.        , 0.        , 0.        , 0.        ,\n",
              "       0.        , 0.        , 0.        , 0.        , 0.        ,\n",
              "       0.        , 0.        , 0.        , 0.        , 0.        ,\n",
              "       0.9490197 , 0.9960785 , 0.93725497, 0.22352943, 0.        ,\n",
              "       0.        , 0.        , 0.        , 0.        , 0.        ,\n",
              "       0.        , 0.        , 0.        , 0.        , 0.        ,\n",
              "       0.        , 0.        , 0.        , 0.        , 0.        ,\n",
              "       0.        , 0.        , 0.        , 0.        , 0.        ,\n",
              "       0.        , 0.        , 0.34901962, 0.9843138 , 0.9450981 ,\n",
              "       0.3372549 , 0.        , 0.        , 0.        , 0.        ,\n",
              "       0.        , 0.        , 0.        , 0.        , 0.        ,\n",
              "       0.        , 0.        , 0.        , 0.        , 0.        ,\n",
              "       0.        , 0.        , 0.        , 0.        , 0.        ,\n",
              "       0.        , 0.        , 0.        , 0.        , 0.01960784,\n",
              "       0.8078432 , 0.96470594, 0.6156863 , 0.        , 0.        ,\n",
              "       0.        , 0.        , 0.        , 0.        , 0.        ,\n",
              "       0.        , 0.        , 0.        , 0.        , 0.        ,\n",
              "       0.        , 0.        , 0.        , 0.        , 0.        ,\n",
              "       0.        , 0.        , 0.        , 0.        , 0.        ,\n",
              "       0.        , 0.        , 0.01568628, 0.45882356, 0.27058825,\n",
              "       0.        , 0.        , 0.        , 0.        , 0.        ,\n",
              "       0.        , 0.        , 0.        , 0.        , 0.        ,\n",
              "       0.        , 0.        , 0.        , 0.        , 0.        ,\n",
              "       0.        , 0.        , 0.        , 0.        , 0.        ,\n",
              "       0.        , 0.        , 0.        , 0.        , 0.        ,\n",
              "       0.        , 0.        , 0.        , 0.        , 0.        ,\n",
              "       0.        , 0.        , 0.        , 0.        , 0.        ,\n",
              "       0.        , 0.        , 0.        , 0.        ], dtype=float32)"
            ]
          },
          "metadata": {},
          "execution_count": 28
        }
      ]
    },
    {
      "cell_type": "markdown",
      "source": [
        "- 데이터는 55000개, 5000, 10000개 준비\n",
        "- 이미지의 최종 크기는 27*27 이고 데이터 (55000, 784) 준비\n",
        "- 각 픽셀은 0~1 사이 값으로 설정되어 있음\n"
      ],
      "metadata": {
        "id": "VqIdBbu5z-DJ"
      }
    },
    {
      "cell_type": "markdown",
      "source": [
        "# 데이터 준비 (생략)"
      ],
      "metadata": {
        "id": "BhAHxHkps7ju"
      }
    },
    {
      "cell_type": "markdown",
      "source": [
        "# 데이터 분석 (생략)"
      ],
      "metadata": {
        "id": "5apULIgps7mZ"
      }
    },
    {
      "cell_type": "markdown",
      "source": [
        "# 모델 구축 (딥러닝-CNN)"
      ],
      "metadata": {
        "id": "EPkud-Oos7o7"
      }
    },
    {
      "cell_type": "markdown",
      "source": [
        "- 목표\n",
        "  - CNN을 기반으로 한 인공신경망 mnist에서 제공하는 데이터(손글씨이미지)를 잘 분류해 내도록 학습 -> 최적화 -> 가장 높은 성능을 내는 W, b를 찾아내는 과정\n",
        "  - 이를 구현하기 위해서 텐서플로우 1.x 엔진을 활용한다\n"
      ],
      "metadata": {
        "id": "7LoMZ6I80TvS"
      }
    },
    {
      "cell_type": "markdown",
      "source": [
        "## 환경변수 설정\n",
        "- 딥러닝 수행 시 필요한 상수값 정의\n",
        "- 학습시 필요한 통제 환경을 정의\n",
        " "
      ],
      "metadata": {
        "id": "T2eZJ0ya1KtV"
      }
    },
    {
      "cell_type": "code",
      "source": [
        "# 전체 피쳐 수, 전체 픽셀 수 \n",
        "PIXEL = mnist.train.images.shape[1]\n",
        "PIXEL"
      ],
      "metadata": {
        "colab": {
          "base_uri": "https://localhost:8080/"
        },
        "id": "T5AYJ2Mb1Y5f",
        "outputId": "2a17d602-ee67-4c3c-e3c6-e0d46c869844"
      },
      "execution_count": null,
      "outputs": [
        {
          "output_type": "execute_result",
          "data": {
            "text/plain": [
              "784"
            ]
          },
          "metadata": {},
          "execution_count": 29
        }
      ]
    },
    {
      "cell_type": "code",
      "source": [
        "import numpy as np"
      ],
      "metadata": {
        "id": "WHhitZHM13t5"
      },
      "execution_count": null,
      "outputs": []
    },
    {
      "cell_type": "code",
      "source": [
        "# 이미지의 세로, 가로 크기 => 현재 이미지는 정사각형\n",
        "PIXEL_H = int(np.sqrt(PIXEL))\n",
        "PIXEL_W = PIXEL_H\n",
        "\n",
        "PIXEL_H, PIXEL_W"
      ],
      "metadata": {
        "colab": {
          "base_uri": "https://localhost:8080/"
        },
        "id": "bm0tpXsT1npQ",
        "outputId": "5ef52afe-9042-4769-fbb0-38c81620fa35"
      },
      "execution_count": null,
      "outputs": [
        {
          "output_type": "execute_result",
          "data": {
            "text/plain": [
              "(28, 28)"
            ]
          },
          "metadata": {},
          "execution_count": 31
        }
      ]
    },
    {
      "cell_type": "code",
      "source": [
        "# 정답의 중복되지 않는 종류의 총 개수\n",
        "LABEL_NUM = mnist.train.labels.shape[-1]\n",
        "LABEL_NUM"
      ],
      "metadata": {
        "colab": {
          "base_uri": "https://localhost:8080/"
        },
        "id": "Ek6dmFKs2MCu",
        "outputId": "993c1430-bde7-4bb6-9a9d-df0a1dfdfe85"
      },
      "execution_count": null,
      "outputs": [
        {
          "output_type": "execute_result",
          "data": {
            "text/plain": [
              "10"
            ]
          },
          "metadata": {},
          "execution_count": 32
        }
      ]
    },
    {
      "cell_type": "code",
      "source": [
        "mnist.train.labels"
      ],
      "metadata": {
        "colab": {
          "base_uri": "https://localhost:8080/"
        },
        "id": "VtVNIlU42Z_G",
        "outputId": "21fc527c-b7d2-4254-f180-a227ada64977"
      },
      "execution_count": null,
      "outputs": [
        {
          "output_type": "execute_result",
          "data": {
            "text/plain": [
              "array([[0., 0., 0., ..., 1., 0., 0.],\n",
              "       [0., 0., 0., ..., 0., 0., 0.],\n",
              "       [0., 0., 0., ..., 0., 0., 0.],\n",
              "       ...,\n",
              "       [0., 0., 0., ..., 0., 0., 0.],\n",
              "       [0., 0., 0., ..., 0., 0., 0.],\n",
              "       [0., 0., 0., ..., 0., 1., 0.]])"
            ]
          },
          "metadata": {},
          "execution_count": 33
        }
      ]
    },
    {
      "cell_type": "markdown",
      "source": [
        "## CNN을 이용한 인공신경망 구축"
      ],
      "metadata": {
        "id": "SbnIHiwU8BZE"
      }
    },
    {
      "cell_type": "markdown",
      "source": [
        "\n",
        "\n",
        "```\n",
        "CNN Network\n",
        "\n",
        "- 입력층     : Input layer\n",
        "- 은닉층     : hidden layer\n",
        "  - 합성곱층 : convolution layer\n",
        "  - 풀링층   : pooling layer\n",
        "  - 합성곱층 : convolution layer\n",
        "  - 풀링층   : pooling layer\n",
        "  - 전결합층 : Fully connected layer\n",
        "  - 드롭아웃층(과적합 방지) : dropout layer \n",
        "- 출력층 : output layer\n",
        "\n",
        "55000개의 데이터를 1세대 학습에서 모두 사용\n",
        "```\n",
        "\n",
        "\n"
      ],
      "metadata": {
        "id": "yzJRTs-v8J1C"
      }
    },
    {
      "cell_type": "markdown",
      "source": [
        "### PART1 데이터 플로우 그래프 구성"
      ],
      "metadata": {
        "id": "rvEzTOHM-DBw"
      }
    },
    {
      "cell_type": "markdown",
      "source": [
        "#### 입력층"
      ],
      "metadata": {
        "id": "8sOMfu5W9Y-u"
      }
    },
    {
      "cell_type": "markdown",
      "source": [
        "- 변수명 : x\n",
        "- 목적 : 손글씨 이미지 데이터가 주입된다(외부에서 데이터를 넣는다) -> 학습하기 위해서 \n",
        "- 타입 : placehoder\n",
        "- shape :\n",
        "  - 훈련데이터 (55000, 784)\n",
        "  - 검증데이터 (5000, 784)\n",
        "  - 테스트데이터 (10000, 784)\n",
        "  - => (?, 784) -> 가변형 placeholder 구성\n",
        "- 주입되는 데이터 타입 : float"
      ],
      "metadata": {
        "id": "MZBeUTXK-WKl"
      }
    },
    {
      "cell_type": "code",
      "source": [
        "x = tf.placeholder(tf.float32, shape = (None, PIXEL), name = 'x')\n",
        "x"
      ],
      "metadata": {
        "colab": {
          "base_uri": "https://localhost:8080/"
        },
        "id": "tCNPS6ZE_F0l",
        "outputId": "3e896d7c-d90f-439a-9ac0-30152ab6cbfa"
      },
      "execution_count": null,
      "outputs": [
        {
          "output_type": "execute_result",
          "data": {
            "text/plain": [
              "<tf.Tensor 'x:0' shape=(?, 784) dtype=float32>"
            ]
          },
          "metadata": {},
          "execution_count": 34
        }
      ]
    },
    {
      "cell_type": "markdown",
      "source": [
        "#### 은닉층 > 합성곱층 1F"
      ],
      "metadata": {
        "id": "36gI_Wvx9ZA9"
      }
    },
    {
      "cell_type": "markdown",
      "source": [
        "- 목적\n",
        "  - 이미지 상의 공간 / 인접 등 정보(특징)을 추출하는 단계\n",
        "  - 이미지 공간 상을 필터(커널)가 이동(슬라이딩, 스트라이드 양만큼)하면서 연산(특징 추출), 이 값을 feature map(특징지도)를 만드는 층\n",
        "  - 이미지늘 이해하기 위해서 \n",
        "  - 조건\n",
        "    - 정확도를 높이기 위해서는 체크하는 이미지 외에 다른 이미지가 없어야 좋다\n",
        "    - MNIST의 뒷배경은 검정색\n",
        "    - **일반적인 이미지**로 대비해 보면 **뒷 배경에 잡음이 많다** -> 바운드박스 등등 **라벨링** 이후 추출과정(opencv 활용)"
      ],
      "metadata": {
        "id": "KoyGp2DQ_x7i"
      }
    },
    {
      "cell_type": "markdown",
      "source": [
        "- 입력\n",
        "  - 이전 층의 출력\n",
        "- 변수 \n",
        "  - act_conv_1f\n",
        "- 구성요소 \n",
        "  - k : Kernel(커널, 필터)\n",
        "    - 커널의 크기 정보 필요, 2D\n",
        "    - (h, w)\n",
        "    - 통상 정방형 커널 사용, 세로 & 가로 사이즈 동일\n",
        "  - W : Weight(가중치)\n",
        "    - 커널이 들고 있는 값\n",
        "    - 커널의 공용 파라미터\n",
        "  - b : bias(편향)\n",
        "    - 전체적인 입력대비 출력값을 조절하는 역할\n",
        "  - s : stride\n",
        "    - 커널을 이동시키는 양 (가로, 세로)\n",
        "    - 왼 -> 오른쪽 , 위 -> 아래로 이동\n",
        "  - p : padding\n",
        "    - 보정, 커널이 이동하는 중 경계선에서 보정할 것인지 다음으로 이동할 것인지 처리하는 기준\n",
        "    - SAME(동일크기), VALID(유효범위만, 일반적으로 축소됨)\n",
        "- 출력\n",
        "  - feature map or activation map\n",
        "- shape \n",
        "  - x : (None, 784)\n",
        "  - W(or k) : (5, 5) <- 설정\n",
        "  - b : (32,) <- 설정\n",
        "  - 1장의 이미지를 넣어서 => 32개의 이미지로 추출\n"
      ],
      "metadata": {
        "id": "UKsDnv-MAy_p"
      }
    },
    {
      "cell_type": "markdown",
      "source": [
        "#### 은닉층 > 풀링층 1F"
      ],
      "metadata": {
        "id": "SxgcUWNy9ZDR"
      }
    },
    {
      "cell_type": "markdown",
      "source": [
        "#### 은닉층 > 합성곱층 2F"
      ],
      "metadata": {
        "id": "mJmyJp4s9ZFq"
      }
    },
    {
      "cell_type": "markdown",
      "source": [
        "#### 은닉층 > 풀링층 2F"
      ],
      "metadata": {
        "id": "Ec3u56VH9ZIG"
      }
    },
    {
      "cell_type": "markdown",
      "source": [
        "#### 은닉층 > 전결합층"
      ],
      "metadata": {
        "id": "Ztwl0Rwf9ZKy"
      }
    },
    {
      "cell_type": "markdown",
      "source": [
        "#### 은닉층 > 드롭아웃층"
      ],
      "metadata": {
        "id": "Bru5a30p9ZNc"
      }
    },
    {
      "cell_type": "markdown",
      "source": [
        "#### 출력층"
      ],
      "metadata": {
        "id": "GrxILmJ39ZPz"
      }
    },
    {
      "cell_type": "markdown",
      "source": [
        "### PART2 데이터 주입 및 학습 및 예측수행"
      ],
      "metadata": {
        "id": "xpWbqdR1-QbT"
      }
    },
    {
      "cell_type": "markdown",
      "source": [
        "- 데이터 주입 형태\n",
        "  - feed_dict = {x : (?, 784)}"
      ],
      "metadata": {
        "id": "92ZNQuui_b_q"
      }
    },
    {
      "cell_type": "markdown",
      "source": [
        ""
      ],
      "metadata": {
        "id": "ty8Y0Q1a-Tns"
      }
    },
    {
      "cell_type": "markdown",
      "source": [
        "# 시스템 통합 / 산출물"
      ],
      "metadata": {
        "id": "VF3fSLfLs7sA"
      }
    }
  ]
}