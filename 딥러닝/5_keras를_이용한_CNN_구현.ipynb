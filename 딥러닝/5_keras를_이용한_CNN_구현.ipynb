{
  "nbformat": 4,
  "nbformat_minor": 0,
  "metadata": {
    "colab": {
      "name": "5. keras를 이용한 CNN 구현.ipynb",
      "provenance": [],
      "collapsed_sections": [],
      "toc_visible": true
    },
    "kernelspec": {
      "name": "python3",
      "display_name": "Python 3"
    },
    "language_info": {
      "name": "python"
    },
    "accelerator": "GPU"
  },
  "cells": [
    {
      "cell_type": "markdown",
      "source": [
        "# 개요"
      ],
      "metadata": {
        "id": "ZIqqgTwXhxbY"
      }
    },
    {
      "cell_type": "markdown",
      "source": [
        "- keras \n",
        "  - 딥러닝을 몇개의 API 사용만으로 손쉽게 구현할 수 있는 **고수준 API 인터페이스**이다\n",
        "  - keras는 백엔드 엔진을 지정해서 딥러닝을 수행한다\n",
        "    - tensorflow에서 2017 commit 행사에서 공식적으로 keras를 하위 패키지로 포함\n",
        "    - tensorflow 2.x에서 개발방법론 중 고수준 개발 방식으로 지정하여 권장하고 있다\n",
        "     "
      ],
      "metadata": {
        "id": "SR7c50Qih2r-"
      }
    },
    {
      "cell_type": "code",
      "source": [
        "from tensorflow import keras\n",
        "keras.__version__"
      ],
      "metadata": {
        "colab": {
          "base_uri": "https://localhost:8080/",
          "height": 35
        },
        "id": "SV_i42zCitBj",
        "outputId": "0bdb6ca4-9189-4836-8212-bc54e3ce5ba0"
      },
      "execution_count": null,
      "outputs": [
        {
          "output_type": "execute_result",
          "data": {
            "text/plain": [
              "'2.8.0'"
            ],
            "application/vnd.google.colaboratory.intrinsic+json": {
              "type": "string"
            }
          },
          "metadata": {},
          "execution_count": 1
        }
      ]
    },
    {
      "cell_type": "markdown",
      "source": [
        "# 난수고정"
      ],
      "metadata": {
        "id": "pyy8BP7Di6oz"
      }
    },
    {
      "cell_type": "markdown",
      "source": [
        "- 공통적으로 어떤 엔진을 사용하던지 동일한 결과를 얻기 위한 조치\n",
        "- 단, GPU학습시 시드 고정이 풀리는 문제가 일부 있다고 피드백"
      ],
      "metadata": {
        "id": "GX2FLqtri_kb"
      }
    },
    {
      "cell_type": "code",
      "source": [
        "# 시드값 준비\n",
        "RAND_SEED_VALUE = 0"
      ],
      "metadata": {
        "id": "EDJTuZR8jKUS"
      },
      "execution_count": null,
      "outputs": []
    },
    {
      "cell_type": "code",
      "source": [
        "# OS레벨\n",
        "import os\n",
        "os.environ['PYTHONJASHSEED'] = str(RAND_SEED_VALUE)\n",
        "\n",
        "# 파이썬레벨\n",
        "import random\n",
        "random.seed(RAND_SEED_VALUE)\n",
        "\n",
        "# NUMPY레벨\n",
        "import numpy as np\n",
        "np.random.seed(RAND_SEED_VALUE)\n",
        "\n",
        "# 엔진레벨\n",
        "import tensorflow as tf\n",
        "# 1.x 시드고정\n",
        "#tf.random.seed(RAND_SEED_VALUE)\n",
        "# 2.x 시드고정\n",
        "#tensorflow._api.v2.random.seed\n",
        "\n",
        "# 케라스레벨(생략)"
      ],
      "metadata": {
        "id": "RKRaW7isjQY5"
      },
      "execution_count": null,
      "outputs": []
    },
    {
      "cell_type": "markdown",
      "source": [
        "# 데이터 형식 확인"
      ],
      "metadata": {
        "id": "dB856HPnki8p"
      }
    },
    {
      "cell_type": "code",
      "source": [
        "from tensorflow.keras import backend"
      ],
      "metadata": {
        "id": "IMgwr8JZkJWh"
      },
      "execution_count": null,
      "outputs": []
    },
    {
      "cell_type": "code",
      "source": [
        "backend.image_data_format()\n",
        "# channels_last  : NHWC -> Tensorflow, Keras(백엔드가 텐서플로우 인 경우)\n",
        "# channels_first : NCHW -> pyTorch"
      ],
      "metadata": {
        "colab": {
          "base_uri": "https://localhost:8080/",
          "height": 35
        },
        "id": "C0rY9ddhkp5W",
        "outputId": "59976304-ea5c-4d27-d089-998865839dc4"
      },
      "execution_count": null,
      "outputs": [
        {
          "output_type": "execute_result",
          "data": {
            "text/plain": [
              "'channels_last'"
            ],
            "application/vnd.google.colaboratory.intrinsic+json": {
              "type": "string"
            }
          },
          "metadata": {},
          "execution_count": 5
        }
      ]
    },
    {
      "cell_type": "markdown",
      "source": [
        "# 데이터 준비"
      ],
      "metadata": {
        "id": "XlJy1rbGlLkj"
      }
    },
    {
      "cell_type": "markdown",
      "source": [
        "- 케라스에서 데이터를 받아서 처리\n",
        "- 데이터는 NHWC 형식(4D)으로 구성\n",
        "  - MNIST => (-1, 28, 28, 1)"
      ],
      "metadata": {
        "id": "zuROM51BlpwM"
      }
    },
    {
      "cell_type": "code",
      "source": [
        "from tensorflow.keras.datasets import mnist"
      ],
      "metadata": {
        "id": "V3rQZJYEqv3W"
      },
      "execution_count": null,
      "outputs": []
    },
    {
      "cell_type": "code",
      "source": [
        "(X_train, y_train), (X_test, y_test) = mnist.load_data()"
      ],
      "metadata": {
        "id": "NTW4nMoFq5yz"
      },
      "execution_count": null,
      "outputs": []
    },
    {
      "cell_type": "code",
      "source": [
        "# 데이터 정규화 작업, one-hot 인코딩 처리\n",
        "X_train.shape, y_train.shape, X_test.shape, y_test.shape"
      ],
      "metadata": {
        "colab": {
          "base_uri": "https://localhost:8080/"
        },
        "id": "RDQQ8WvSq51o",
        "outputId": "c19f55fd-a09e-4955-add9-a990b2520f44"
      },
      "execution_count": null,
      "outputs": [
        {
          "output_type": "execute_result",
          "data": {
            "text/plain": [
              "((60000, 28, 28), (60000,), (10000, 28, 28), (10000,))"
            ]
          },
          "metadata": {},
          "execution_count": 8
        }
      ]
    },
    {
      "cell_type": "code",
      "source": [
        "# 정답 확인 => one-hot 인코딩 처리 필요\n",
        "np.unique(y_train)"
      ],
      "metadata": {
        "colab": {
          "base_uri": "https://localhost:8080/"
        },
        "id": "8KaHvrqQq54Y",
        "outputId": "a7533739-86d7-4a1f-b269-6421d4de747e"
      },
      "execution_count": null,
      "outputs": [
        {
          "output_type": "execute_result",
          "data": {
            "text/plain": [
              "array([0, 1, 2, 3, 4, 5, 6, 7, 8, 9], dtype=uint8)"
            ]
          },
          "metadata": {},
          "execution_count": 9
        }
      ]
    },
    {
      "cell_type": "code",
      "source": [
        "# 환경변수 획득\n",
        "PIXEL_H = X_train.shape[1] # 28\n",
        "PIXEL_W = X_train.shape[2] # 28\n",
        "PIXEL = PIXEL_H + PIXEL_W  # 784\n",
        "LABEL_NUM = len(np.unique(y_train)) # 10\n",
        "IN_CHANNEL = 1 # 입력채널 수(grayscale)"
      ],
      "metadata": {
        "id": "6cS0T52Nq58C"
      },
      "execution_count": null,
      "outputs": []
    },
    {
      "cell_type": "code",
      "source": [
        "# 데이터 포맷에 맞춘 shape 변경\n",
        "if 'channel_last' == backend.image_data_format() :\n",
        "  # ( 6000, 28, 28, 1 )\n",
        "  X_train = X_train.reshape( -1, PIXEL_H, PIXEL_W, IN_CHANNEL )\n",
        "  X_test  = X_test.reshape(  -1, PIXEL_H, PIXEL_W, IN_CHANNEL )\n",
        "else :\n",
        "  # ( 6000, 1, 28, 28 )\n",
        "  X_train = X_train.reshape( -1, IN_CHANNEL, PIXEL_H, PIXEL_W )\n",
        "  X_test  = X_test.reshape( -1, IN_CHANNEL, PIXEL_H, PIXEL_W )"
      ],
      "metadata": {
        "id": "xe0IVFWbrt5C"
      },
      "execution_count": null,
      "outputs": []
    },
    {
      "cell_type": "code",
      "source": [
        "# 형변환 ( 0.0 ~ 255.0 )\n",
        "X_train = X_train.astype('float32')\n",
        "X_test = X_test.astype('float32')\n",
        "\n",
        "# 정규화 처리 ( 0.0 ~ 1.0 )\n",
        "X_train = X_train / np.max(X_train)\n",
        "X_test = X_test / np.max(X_test)"
      ],
      "metadata": {
        "id": "-HCyfoXLrt8S"
      },
      "execution_count": null,
      "outputs": []
    },
    {
      "cell_type": "code",
      "source": [
        "# 정답\n",
        "y_train = keras.utils.to_categorical(y_train, LABEL_NUM)\n",
        "y_test = keras.utils.to_categorical(y_test, LABEL_NUM)\n",
        "y_train.shape, y_test.shape"
      ],
      "metadata": {
        "colab": {
          "base_uri": "https://localhost:8080/"
        },
        "id": "AWxRI-0QruDB",
        "outputId": "007a85bd-9749-4276-99c5-d8fecd1827e2"
      },
      "execution_count": null,
      "outputs": [
        {
          "output_type": "execute_result",
          "data": {
            "text/plain": [
              "((60000, 10), (10000, 10))"
            ]
          },
          "metadata": {},
          "execution_count": 13
        }
      ]
    },
    {
      "cell_type": "markdown",
      "source": [
        "# 신경망 구성"
      ],
      "metadata": {
        "id": "xKW2ckrolNVb"
      }
    },
    {
      "cell_type": "markdown",
      "source": [
        "- model.add(레이어)"
      ],
      "metadata": {
        "id": "smleBw3Tlz9W"
      }
    },
    {
      "cell_type": "code",
      "source": [
        "from tensorflow.keras import models, layers"
      ],
      "metadata": {
        "id": "qSzjKngemanS"
      },
      "execution_count": null,
      "outputs": []
    },
    {
      "cell_type": "code",
      "source": [
        "# 1. 네트워크 구성 준비, model에  layer을 추가하면서 신경망 구성이 완료된다\n",
        "model = models.Sequential()"
      ],
      "metadata": {
        "id": "KjfFYaKNmizu"
      },
      "execution_count": null,
      "outputs": []
    },
    {
      "cell_type": "code",
      "source": [
        "if 'channel_last' == backend.image_data_format() :\n",
        "  # HWC\n",
        "  input_shape = (PIXEL_H, PIXEL_W, IN_CHANNEL )\n",
        "else :\n",
        "  # CHW\n",
        "  input_shape = (IN_CHANNEL, PIXEL_H, PIXEL_W )"
      ],
      "metadata": {
        "id": "YsPsvmzgw9lt"
      },
      "execution_count": null,
      "outputs": []
    },
    {
      "cell_type": "code",
      "source": [
        "from threading import active_count\n",
        "# 2. 합성곱 1층\n",
        "model.add(layers.Conv2D(filters = 32,            # 합성곱층을 통과하고 나서 결과물의 출력 채널수 1 -> 32\n",
        "                        kernel_size = (5,5),     # 가중치(w)를 공용파라미터로 가진 커널의 크기(정방형 2D 행렬)\n",
        "                        strides = (1, 1),        # 세로, 가로의 이동량 각각 1\n",
        "                        padding = 'same',        # 소문자로 표현(저수준은 대문자), same 동일크기, vaild 유효범위(축소)\n",
        "                        activation = 'relu',     # 활성화 함수 relu(x가 음수면 0, 입력 양수면 그대로)\n",
        "                        input_shape = input_shape)) # 최초 입력 x가 들어오는 자리이므로, 입력 형태를 표현한다(최초층이므로 추가)\n",
        "# 3. 풀링 1층\n",
        "model.add(layers.MaxPool2D(\n",
        "    pool_size = (2, 2),     # 커널 크기를 지정(정방형)\n",
        "    strides = None,         # None을 주면 커널크기와 동일하다\n",
        "    padding ='same'         # 동일 크기 -> k, s, p, x 등은 공식이 성립\n",
        "))\n",
        "model.add(layers.Dropout(0.1))\n",
        "# 4. 합성곱 2층\n",
        "model.add(layers.Conv2D(32*2, (5,5), padding = 'same', activation = 'relu'))\n",
        "# 5. 풀링 2층\n",
        "model.add(layers.MaxPool2D(padding = 'same'))\n",
        "model.add(layers.Dropout(0.1))\n",
        "# 6. 전결합층\n",
        "model.add(layers.Flatten())\n",
        "model.add(layers.Dense(1024, activation = 'relu'))\n",
        "# 7. 과적합방지층(드롭아웃층)\n",
        "model.add(layers.Dropout(0.1))\n",
        "# 8. 출력층\n",
        "model.add(layers.Dense(LABEL_NUM, activation = 'softmax'))"
      ],
      "metadata": {
        "id": "u2iYYfpimrdf"
      },
      "execution_count": null,
      "outputs": []
    },
    {
      "cell_type": "markdown",
      "source": [
        "# 학습 및 최적화, 예측 구성"
      ],
      "metadata": {
        "id": "zi5pCtE5lOsC"
      }
    },
    {
      "cell_type": "markdown",
      "source": [
        "- model.compile(도구)"
      ],
      "metadata": {
        "id": "oSrIW7g5l4Ta"
      }
    },
    {
      "cell_type": "code",
      "source": [
        "model.compile(\n",
        "    optimizer = 'rmsprop',                         # 최적화 도구\n",
        "    loss = keras.losses.categorical_crossentropy,  # 손실함수\n",
        "    metrics = ['accuracy']                         # 정확도\n",
        ")"
      ],
      "metadata": {
        "id": "WMwxoooLnOzP"
      },
      "execution_count": null,
      "outputs": []
    },
    {
      "cell_type": "markdown",
      "source": [
        "# 학습"
      ],
      "metadata": {
        "id": "P_EsSNC3lRNd"
      }
    },
    {
      "cell_type": "markdown",
      "source": [
        "- model.fit(파라미터)"
      ],
      "metadata": {
        "id": "ncWWzo6Rl8zS"
      }
    },
    {
      "cell_type": "code",
      "source": [
        "# 학습 관련 변수 설정\n",
        "EPOCHS = 10\n",
        "BATCH_SIZE = 128"
      ],
      "metadata": {
        "id": "1KUFErUlkw1z"
      },
      "execution_count": null,
      "outputs": []
    },
    {
      "cell_type": "code",
      "source": [
        "if 0 : \n",
        "  history = model.fit(\n",
        "    x = X_train,       # 훈련 데이터\n",
        "    y = y_train,       # 정답 데이터\n",
        "    batch_size = BATCH_SIZE, # 한번의 학습시 동원되는 데이터량\n",
        "    epochs = EPOCHS,   # 세대학습수 세팅 \n",
        "    #verbose = 'auto', # 로그 출력\n",
        "    #callbacks = None, # 조기학습 종료등 콜백함수등록\n",
        "  )"
      ],
      "metadata": {
        "id": "laEx-3c0GFCQ"
      },
      "execution_count": null,
      "outputs": []
    },
    {
      "cell_type": "markdown",
      "source": [
        "# 학습개선 - 조기학습종료 도입"
      ],
      "metadata": {
        "id": "QLoCFAnRHfh5"
      }
    },
    {
      "cell_type": "markdown",
      "source": [
        "- 특징\n",
        "  - 학습 성과가 더이상 나오지 않을 때 추가되는 학습은 무의미하다\n",
        "  - 변동폭이 더이상 진행되지 않으면 학습을 종료시킨다(조기학습종료)\n",
        "  - 콜백함수 등록 후 처리"
      ],
      "metadata": {
        "id": "WY_hvNQaHkKJ"
      }
    },
    {
      "cell_type": "code",
      "source": [
        "from tensorflow.keras.callbacks import EarlyStopping\n",
        "\n",
        "# 조기 학습 종료 객체\n",
        "early_stopping = EarlyStopping()"
      ],
      "metadata": {
        "id": "JGaGxtEDHy8X"
      },
      "execution_count": null,
      "outputs": []
    },
    {
      "cell_type": "code",
      "source": [
        "with tf.device('/device:GPU:0'): \n",
        "  history = model.fit(\n",
        "    x = X_train,       # 훈련 데이터\n",
        "    y = y_train,       # 정답 데이터\n",
        "    batch_size = BATCH_SIZE, # 한번의 학습시 동원되는 데이터량\n",
        "    epochs = EPOCHS,   # 세대학습수 세팅 \n",
        "    #verbose='auto', # 로그 출력\n",
        "    callbacks = [early_stopping], # 조기학습 종료등 콜백함수등록\n",
        "    validation_split = 0.2 # 검증 데이터 비율    \n",
        "  )"
      ],
      "metadata": {
        "colab": {
          "base_uri": "https://localhost:8080/"
        },
        "id": "8OdkgAWTHcUE",
        "outputId": "40db336d-fe45-49b6-851d-f56b0029a9a1"
      },
      "execution_count": null,
      "outputs": [
        {
          "output_type": "stream",
          "name": "stdout",
          "text": [
            "Epoch 1/10\n",
            "375/375 [==============================] - 8s 13ms/step - loss: 0.3145 - accuracy: 0.9007 - val_loss: 0.0919 - val_accuracy: 0.9730\n",
            "Epoch 2/10\n",
            "375/375 [==============================] - 4s 10ms/step - loss: 0.0976 - accuracy: 0.9690 - val_loss: 0.0717 - val_accuracy: 0.9778\n"
          ]
        }
      ]
    },
    {
      "cell_type": "markdown",
      "source": [
        "- 조기 학습 종료를 이용해 2세대에서 학습이 완료되었다"
      ],
      "metadata": {
        "id": "AKX6SB1MI9ia"
      }
    },
    {
      "cell_type": "code",
      "source": [
        "# 이 정보를 이용해 시각화 가능하다\n",
        "history.history"
      ],
      "metadata": {
        "colab": {
          "base_uri": "https://localhost:8080/"
        },
        "id": "uzd3RhK9I0ue",
        "outputId": "c56e8678-f342-4003-a0e6-f06df30e7d1b"
      },
      "execution_count": null,
      "outputs": [
        {
          "output_type": "execute_result",
          "data": {
            "text/plain": [
              "{'accuracy': [0.9007083177566528, 0.9690208435058594],\n",
              " 'loss': [0.31451377272605896, 0.09764762222766876],\n",
              " 'val_accuracy': [0.9729999899864197, 0.9777500033378601],\n",
              " 'val_loss': [0.09191697090864182, 0.071661576628685]}"
            ]
          },
          "metadata": {},
          "execution_count": 23
        }
      ]
    },
    {
      "cell_type": "markdown",
      "source": [
        "# 모델 덤프"
      ],
      "metadata": {
        "id": "OqMfZz7_Jp49"
      }
    },
    {
      "cell_type": "code",
      "source": [
        "model.save('mnist_cnn.h5')"
      ],
      "metadata": {
        "id": "OvrdtPJ7JW-n"
      },
      "execution_count": null,
      "outputs": []
    },
    {
      "cell_type": "markdown",
      "source": [
        "# 모델 로드"
      ],
      "metadata": {
        "id": "iDhZSGaGKAZV"
      }
    },
    {
      "cell_type": "code",
      "source": [
        "from tensorflow.keras.models import load_model"
      ],
      "metadata": {
        "id": "rplIoMGRJ_jD"
      },
      "execution_count": null,
      "outputs": []
    },
    {
      "cell_type": "code",
      "source": [
        "loadModel = load_model('mnist_cnn.h5')"
      ],
      "metadata": {
        "id": "riGyonHHKMdS"
      },
      "execution_count": null,
      "outputs": []
    },
    {
      "cell_type": "code",
      "source": [
        "loadModel.evaluate(X_test, y_test)"
      ],
      "metadata": {
        "colab": {
          "base_uri": "https://localhost:8080/"
        },
        "id": "vong1jakKTV5",
        "outputId": "822164ea-b762-4285-8c37-1f900e723717"
      },
      "execution_count": null,
      "outputs": [
        {
          "output_type": "stream",
          "name": "stdout",
          "text": [
            "313/313 [==============================] - 1s 4ms/step - loss: 0.0632 - accuracy: 0.9795\n"
          ]
        },
        {
          "output_type": "execute_result",
          "data": {
            "text/plain": [
              "[0.06319078058004379, 0.9794999957084656]"
            ]
          },
          "metadata": {},
          "execution_count": 27
        }
      ]
    },
    {
      "cell_type": "code",
      "source": [
        "X_test.shape, y_test.shape"
      ],
      "metadata": {
        "colab": {
          "base_uri": "https://localhost:8080/"
        },
        "id": "G6QLYBqdLmgz",
        "outputId": "a4c3a3ea-4d1f-41da-ed07-a118e51c2bc4"
      },
      "execution_count": null,
      "outputs": [
        {
          "output_type": "execute_result",
          "data": {
            "text/plain": [
              "((10000, 1, 28, 28), (10000, 10))"
            ]
          },
          "metadata": {},
          "execution_count": 28
        }
      ]
    }
  ]
}