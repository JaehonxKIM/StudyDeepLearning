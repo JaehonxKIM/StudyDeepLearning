{
  "nbformat": 4,
  "nbformat_minor": 0,
  "metadata": {
    "colab": {
      "name": "0. 클래스.ipynb",
      "provenance": [],
      "collapsed_sections": [],
      "toc_visible": true
    },
    "kernelspec": {
      "name": "python3",
      "display_name": "Python 3"
    },
    "language_info": {
      "name": "python"
    }
  },
  "cells": [
    {
      "cell_type": "markdown",
      "source": [
        "# 개요"
      ],
      "metadata": {
        "id": "4wJB_MLlRE-G"
      }
    },
    {
      "cell_type": "markdown",
      "source": [
        "- s/w 개발 방식\n",
        "  - 절차적 프로그래밍\n",
        "    - C/C++, Python, javascript...\n",
        "      - 코드의 재사용성을 구현하기 힘들다\n",
        "  - 함수 지향적 프로그래밍\n",
        "    - 절차적(타입, 자료구조, 조건/제어/반복문) + 함수\n",
        "    - C/C++, Python, javascript...\n",
        "    - 최근 다시 유행하고 있다(리액트)\n",
        "  - 객체 지향적 프로그래밍\n",
        "    - C/C++, Python, javascript, kotlin, swift, scalar\n",
        "    - 절차적 + 함수 + class 개념\n",
        "      - 객체 지향 프로그래밍\n",
        "        - 상속성, 다형성, 은닉성 3가지 특성이 있어야 한다\n",
        "      - GUI 프로그램(윈도우 & IOS)\n",
        "        - pyQT5"
      ],
      "metadata": {
        "id": "hUfceMreRFCT"
      }
    },
    {
      "cell_type": "markdown",
      "source": [
        "# Class"
      ],
      "metadata": {
        "id": "EPkKIg5eSlV7"
      }
    },
    {
      "cell_type": "markdown",
      "source": [
        "- 개념\n",
        "  - entity\n",
        "    - 이 세상에 존재하는 모든 개념(무형), 유형(실존하는 것)\n",
        "    - 이런 entity를 컴퓨터 사이언스, 프로그래밍에서는 entity를 표현하기 위해서는 도구가 필요하다 => class라는 문법을 가지고 구현\n",
        "  - class\n",
        "    - 문법이 존재하고, entity를 표헌하는 도구\n",
        "    - 클래스를 작성 -> 실행 -> 클래스 생성자를 호출\n",
        "    - 클래스의 모습을 본딴 형태로 메모리에 저장 => 객체(object)\n",
        "    - 클래스의 인스턴스를 객체라고 부른다\n",
        "      - 여러개를 만들 수도 있다\n",
        "    - 객체의 청사진은 클래스라고 한다\n",
        "  - object\n",
        "    - 프로그램이 작동하면 메모리상에 존재\n",
        "    - 주소가 존재 => (0x7f561cdc2d90)\n",
        "    - 특정 변수가 그 객체를 받아주면 그 변수를 객체라고 부른다\n",
        "    - 특정 객체를 가리키는 주소를 가진다"
      ],
      "metadata": {
        "id": "1BvVqPepSqyD"
      }
    },
    {
      "cell_type": "markdown",
      "source": [
        "# Object"
      ],
      "metadata": {
        "id": "1rUNrWF7VyYb"
      }
    },
    {
      "cell_type": "markdown",
      "source": [
        "- 모든 클래스(이미 만들어져 있거나, 내가 만들거나)의 부모 클래스이다"
      ],
      "metadata": {
        "id": "vf3s8bn9V90u"
      }
    },
    {
      "cell_type": "markdown",
      "source": [
        "# 문법"
      ],
      "metadata": {
        "id": "W7Sfh36jgutf"
      }
    },
    {
      "cell_type": "code",
      "source": [
        "# 클래스 정의 \n",
        "class Person :\n",
        "  pass\n",
        "\n",
        "# 클래스 사용 -> 객체 생성\n",
        "p = Person()"
      ],
      "metadata": {
        "id": "7yCvT5mpWKDK"
      },
      "execution_count": 1,
      "outputs": []
    },
    {
      "cell_type": "code",
      "source": [
        "# p를 통해서 Person 객체로 접근 할 수 있다\n",
        "p"
      ],
      "metadata": {
        "colab": {
          "base_uri": "https://localhost:8080/"
        },
        "id": "gjnFATTXg6gh",
        "outputId": "ab89c8cd-cca9-4e13-c330-110dd91856ef"
      },
      "execution_count": 2,
      "outputs": [
        {
          "output_type": "execute_result",
          "data": {
            "text/plain": [
              "<__main__.Person at 0x7fb8ec197f50>"
            ]
          },
          "metadata": {},
          "execution_count": 2
        }
      ]
    },
    {
      "cell_type": "code",
      "source": [
        "# 해제\n",
        "del p"
      ],
      "metadata": {
        "id": "okwsGi9hg_bT"
      },
      "execution_count": 3,
      "outputs": []
    },
    {
      "cell_type": "code",
      "source": [
        "# p"
      ],
      "metadata": {
        "id": "gd13-tzxh13y"
      },
      "execution_count": 4,
      "outputs": []
    },
    {
      "cell_type": "markdown",
      "source": [
        "# 클래스 구성원\n",
        "- 생성자\n",
        "- 맴버\n",
        "  - 변수\n",
        "    - 접근제어를 표현할 수 있을 때 언급\n",
        "  - 함수\n",
        "- 소멸자\n",
        "- 기타 _로 시작하는 사전 정의된 함수들\n",
        "- 정적함수\n"
      ],
      "metadata": {
        "id": "P9VQb8uCh1BJ"
      }
    },
    {
      "cell_type": "code",
      "source": [
        "# 멤버 -> 클래스 소속이다 -> 객체명.멤버변수 or 객체명.멤버함수\n",
        "# Person 클래스 내부에서 자기 자신을 표현할 때 => self or(타 언어는 this)\n",
        "\n",
        "# 부모 클래스를 명시적으로 표현하지 않아도 이미 Object(모든 클래스의 수퍼클래스)를 상속하고 있다\n",
        "# class Person(Object):\n",
        "class Person :\n",
        "  # 생성자 (생략 가능함 -> 부모 생성자가 있으니까? 그것을 그대로 사용)  \n",
        "  # 멤버 변수\n",
        "  p = 0.2\n",
        "  # 멤버 함수\n",
        "  def getP(self) :\n",
        "    return self.p\n",
        "\n",
        "per = Person()"
      ],
      "metadata": {
        "id": "N4ooBQkPiOEP"
      },
      "execution_count": 5,
      "outputs": []
    },
    {
      "cell_type": "code",
      "source": [
        "# 객체명.멤버변수\n",
        "per.p"
      ],
      "metadata": {
        "colab": {
          "base_uri": "https://localhost:8080/"
        },
        "id": "PJfWfwg8iu4n",
        "outputId": "7bb0a8d4-3d97-40fd-93fe-904e4b492084"
      },
      "execution_count": 6,
      "outputs": [
        {
          "output_type": "execute_result",
          "data": {
            "text/plain": [
              "0.2"
            ]
          },
          "metadata": {},
          "execution_count": 6
        }
      ]
    },
    {
      "cell_type": "code",
      "source": [
        "# 객체명.멤버함수\n",
        "per.getP()"
      ],
      "metadata": {
        "colab": {
          "base_uri": "https://localhost:8080/"
        },
        "id": "ZW2-OgZYiwY2",
        "outputId": "aa854967-67cf-431a-9caa-470b0482e167"
      },
      "execution_count": 7,
      "outputs": [
        {
          "output_type": "execute_result",
          "data": {
            "text/plain": [
              "0.2"
            ]
          },
          "metadata": {},
          "execution_count": 7
        }
      ]
    },
    {
      "cell_type": "markdown",
      "source": [
        "# 상속\n",
        "\n",
        "- 부모 클래스로부터 모든 유산를 받아서 자식 클래스는 사용 가능\n",
        "- 부모로 부터 받은 유산을 재정의해서 사용 가능\n",
        "- 자식 클래스는 별로도 새로운 기능을 만들어서 추가할수 있다\n",
        "- XMan > Person > Object\n",
        "  - XMan은 Object 이다 (is a)\n",
        "  - Object는 자식으로 XMan을 가진다 (has a) "
      ],
      "metadata": {
        "id": "PKMuUgvIkIck"
      }
    },
    {
      "cell_type": "code",
      "source": [
        "class XMan(Person) :\n",
        "  def attack(self) :\n",
        "    print('하늘을 나는 능력을 추가했다')\n",
        "x = XMan()"
      ],
      "metadata": {
        "id": "4ZRtPhIgjGhB"
      },
      "execution_count": 8,
      "outputs": []
    },
    {
      "cell_type": "code",
      "source": [
        "x.p, x.getP(), x.attack()"
      ],
      "metadata": {
        "colab": {
          "base_uri": "https://localhost:8080/"
        },
        "id": "de9-yJGPkdv2",
        "outputId": "68b2c6b9-5383-4e80-f95c-2f05bb01bfe8"
      },
      "execution_count": 9,
      "outputs": [
        {
          "output_type": "stream",
          "name": "stdout",
          "text": [
            "하늘을 나는 능력을 추가했다\n"
          ]
        },
        {
          "output_type": "execute_result",
          "data": {
            "text/plain": [
              "(0.2, 0.2, None)"
            ]
          },
          "metadata": {},
          "execution_count": 9
        }
      ]
    }
  ]
}