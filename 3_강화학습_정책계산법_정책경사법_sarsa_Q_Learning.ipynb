{
  "nbformat": 4,
  "nbformat_minor": 0,
  "metadata": {
    "colab": {
      "name": "3. 강화학습_정책계산법_정책경사법_sarsa_Q-Learning.ipynb",
      "provenance": [],
      "collapsed_sections": []
    },
    "kernelspec": {
      "name": "python3",
      "display_name": "Python 3"
    },
    "language_info": {
      "name": "python"
    }
  },
  "cells": [
    {
      "cell_type": "markdown",
      "source": [
        "# 개요"
      ],
      "metadata": {
        "id": "Xvm_FrCFaahP"
      }
    },
    {
      "cell_type": "markdown",
      "source": [
        "- Policy를 갱신하는 기법(정책 계산 방법)\n",
        "  - 정책 반복법\n",
        "    - 행동을 중시\n",
        "    - 행동을 기반으로 정책을 갱신 => 행동을 유도\n",
        "    - **정책 경사법**\n",
        "  - 가치 반복법\n",
        "    - 가치를 중시\n",
        "    - 가치 계산이 핵심 -> 가치를 많이 주는 방향으로 정책이 경신\n",
        "    - Sarsa, Q-Learning, DQN...\n"
      ],
      "metadata": {
        "id": "PlA_lstqabsv"
      }
    },
    {
      "cell_type": "markdown",
      "source": [
        "# 미로게임"
      ],
      "metadata": {
        "id": "nvm4ngN0abvB"
      }
    },
    {
      "cell_type": "markdown",
      "source": [
        "- 보드게임\n",
        "- 게임판 : 3 x 3, 정사각형\n",
        "- 특징\n",
        "  - 입구와 출구가 각각 1개만 존재\n",
        "  - 막힌 사각형의 격자형 간에 이동할 수 있는 방향이 존재\n",
        "  - 에이전트(마우스) 4방향으로 이동 가능\n",
        "  - 액션 : 상(0), 우(1), 하(2), 좌(3)\n",
        "  - 게임뷰는 탑 뷰\n",
        "  - 1 step에 한 칸씩 이동\n",
        "- 목적\n",
        "  - **에이전트는 미로게임판에서 최단거리로 입구에서 출발하여 출구로 나간다**"
      ],
      "metadata": {
        "id": "Y2Fg73JNabxW"
      }
    },
    {
      "cell_type": "code",
      "source": [
        "import numpy as np\n",
        "import matplotlib.pyplot as plt\n",
        "\n",
        "%matplotlib inline"
      ],
      "metadata": {
        "id": "p72In1DIgwTK"
      },
      "execution_count": 1,
      "outputs": []
    },
    {
      "cell_type": "markdown",
      "source": [
        "# 게임 맵 그리기"
      ],
      "metadata": {
        "id": "sGv8ZFjAabzf"
      }
    },
    {
      "cell_type": "code",
      "source": [
        "# 맵의 전체 크기\n",
        "fig = plt.figure(figsize = (3,3))\n",
        "# 외곽 벽 그리기\n",
        "# 수평선 2개\n",
        "plt.plot([0, 3],[3, 3], color = 'k') # 위 수평선\n",
        "plt.plot([3, 0],[0, 0], color = 'k') # 아래 수평선\n",
        "plt.plot([0, 0],[0, 2], color = 'k') # 왼쪽 수직선\n",
        "plt.plot([3, 3],[1, 3], color = 'k') # 오른쪽 수직선\n",
        "\n",
        "# 내부 미로\n",
        "plt.plot([1, 1],[1, 2], color = 'k') \n",
        "plt.plot([2, 3],[2, 2], color = 'k') \n",
        "plt.plot([1, 2],[1, 1], color = 'k') \n",
        "plt.plot([2, 2],[0, 1], color = 'k')\n",
        "\n",
        "# 각 포인트 위치 정보 표시 -> 상태\n",
        "# 0,1,2 ~ 8 까지 위치 정보 표시\n",
        "for x in range(3) :\n",
        "  for y in range(3) :\n",
        "    plt.text(x + 0.5, 3 - y - 0.5, str(x + 3 * y) , size = 20, ha = 'center', va = 'center')\n",
        "\n",
        "# 에이전트 표시 -> 시작위치 0번에 위치\n",
        "mouse = plt.plot(0 + 0.5, 3 - 0 - 0.5, marker = 'o', markersize = 25, color = 'r')\n",
        "\n",
        "# 눈금 정리\n",
        "plt.tick_params(bottom = False, left = False,\n",
        "                labelbottom = False, labelleft = False)\n",
        "\n",
        "# 차트 박스 제거 \n",
        "plt.box(False)\n",
        "\n",
        "# 출력\n",
        "plt.show()"
      ],
      "metadata": {
        "colab": {
          "base_uri": "https://localhost:8080/",
          "height": 194
        },
        "id": "HnfJ6DpVg74b",
        "outputId": "1772da45-14e2-4d86-e324-57d8f2900973"
      },
      "execution_count": 2,
      "outputs": [
        {
          "output_type": "display_data",
          "data": {
            "text/plain": [
              "<Figure size 216x216 with 1 Axes>"
            ],
            "image/png": "[encoded data removed]"
          },
          "metadata": {}
        }
      ]
    }
  ]
}